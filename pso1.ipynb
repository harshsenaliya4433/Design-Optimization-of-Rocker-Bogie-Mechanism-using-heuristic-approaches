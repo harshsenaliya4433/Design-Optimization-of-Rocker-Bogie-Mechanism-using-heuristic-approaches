{
  "nbformat": 4,
  "nbformat_minor": 0,
  "metadata": {
    "colab": {
      "provenance": [],
      "authorship_tag": "ABX9TyMFR5cjYx1K4fRVURgdn3Uk",
      "include_colab_link": true
    },
    "kernelspec": {
      "name": "python3",
      "display_name": "Python 3"
    },
    "language_info": {
      "name": "python"
    }
  },
  "cells": [
    {
      "cell_type": "markdown",
      "metadata": {
        "id": "view-in-github",
        "colab_type": "text"
      },
      "source": [
        "<a href=\"https://colab.research.google.com/github/harshsenaliya4433/Design-Optimization-of-Rocker-Bogie-Mechanism-using-heuristic-approaches/blob/main/pso1.ipynb\" target=\"_parent\"><img src=\"https://colab.research.google.com/assets/colab-badge.svg\" alt=\"Open In Colab\"/></a>"
      ]
    },
    {
      "cell_type": "code",
      "metadata": {
        "colab": {
          "base_uri": "https://localhost:8080/"
        },
        "id": "UVfWGhnF1qJC",
        "outputId": "41346c15-eebf-40c7-8535-43074f178e56"
      },
      "source": [
        "!pip install pyswarm"
      ],
      "execution_count": null,
      "outputs": [
        {
          "output_type": "stream",
          "name": "stdout",
          "text": [
            "Requirement already satisfied: pyswarm in /usr/local/lib/python3.7/dist-packages (0.6)\n",
            "Requirement already satisfied: numpy in /usr/local/lib/python3.7/dist-packages (from pyswarm) (1.19.5)\n"
          ]
        }
      ]
    },
    {
      "cell_type": "code",
      "metadata": {
        "id": "4rTA8n1L1ybg"
      },
      "source": [
        "from pyswarm import pso\n",
        "import math\n",
        "def cos(deg):\n",
        "  return math.cos(deg*0.0174533)"
      ],
      "execution_count": null,
      "outputs": []
    },
    {
      "cell_type": "code",
      "metadata": {
        "id": "i-VnHV7215fk"
      },
      "source": [
        "def scost(x):\n",
        "    x1 = x[0] #xB2\n",
        "    x2 = x[1] #xB1\n",
        "    x3 = x[2] #xR\n",
        "    x4 = x[3] #Lrb\n",
        "    x5 = x[4] #gm\n",
        "    return (x1) - (x2/2) + (x3/2) + (3*x4*(cos(x5))**2) + (x4*cos(x5))"
      ],
      "execution_count": null,
      "outputs": []
    },
    {
      "cell_type": "code",
      "metadata": {
        "id": "CrJajgtr19VE"
      },
      "source": [
        "lb = [100, 100, 100, 50, 90]\n",
        "ub = [200, 200, 500, 500, 180]"
      ],
      "execution_count": null,
      "outputs": []
    },
    {
      "cell_type": "code",
      "metadata": {
        "colab": {
          "base_uri": "https://localhost:8080/"
        },
        "id": "Ez7fwpb12Cb5",
        "outputId": "53cde0c7-46b8-4b82-9bb1-5555e7923f09"
      },
      "source": [
        "xopt, fopt = pso(scost, lb, ub)"
      ],
      "execution_count": null,
      "outputs": [
        {
          "output_type": "stream",
          "name": "stdout",
          "text": [
            "Stopping search: Swarm best objective change less than 1e-08\n"
          ]
        }
      ]
    },
    {
      "cell_type": "code",
      "metadata": {
        "colab": {
          "base_uri": "https://localhost:8080/"
        },
        "id": "wOMVBTFa2WB4",
        "outputId": "c4af54cc-12b5-4275-8bb5-19852ebeb0ea"
      },
      "source": [
        "print(xopt)\n",
        "print(fopt)"
      ],
      "execution_count": null,
      "outputs": [
        {
          "output_type": "stream",
          "name": "stdout",
          "text": [
            "[100.         200.         100.         500.          99.59404778]\n",
            "8.333333333552957\n"
          ]
        }
      ]
    }
  ]
}